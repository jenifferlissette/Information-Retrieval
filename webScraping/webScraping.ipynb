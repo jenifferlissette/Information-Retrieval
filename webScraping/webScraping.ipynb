{
 "cells": [
  {
   "cell_type": "markdown",
   "metadata": {},
   "source": [
    "# Web Scraping Exercise\n",
    "\n",
    "## 1. Introduction and Planning\n",
    "\n",
    "### Objective:\n",
    "The goal of this exercise is to build a web scraper that collects data from a chosen website. You will learn how to send HTTP requests, parse HTML content, extract relevant data, and store it in a structured format.\n",
    "\n",
    "### Tasks:\n",
    "1. Identify the data you want to scrape.\n",
    "2. Choose the target website(s).\n",
    "3. Plan the structure of your project.\n",
    "\n",
    "### Example:\n",
    "For this exercise, we will scrape job listings from Indeed.com. We will extract job titles, company names, locations, and job descriptions.\n",
    "\n",
    "## 2. Understanding the Target Website\n",
    "### Objective:\n",
    "\n",
    "Analyze the structure of the web pages to be scraped.\n",
    "### Tasks:\n",
    "\n",
    "* Inspect the target website using browser developer tools.\n",
    "* Identify the HTML elements that contain the desired data.\n",
    "\n",
    "### Instructions:\n",
    "\n",
    "* Open your browser and navigate to the target website (e.g., Indeed.com).\n",
    "* Right-click on the webpage and select \"Inspect\" or press Ctrl+Shift+I.\n",
    "* Use the developer tools to explore the HTML structure of the webpage.\n",
    "* Identify the tags and classes of the elements that contain the job titles, company names, locations, and descriptions.\n",
    "\n",
    "## 3. Writing the Scraper\n",
    "### Objective:\n",
    "\n",
    "Develop the code to scrape data from the target website.\n",
    "### Tasks:\n",
    "\n",
    "* Send HTTP requests to the target website.\n",
    "* Parse the HTML content and extract the required data.\n",
    "* Handle pagination to scrape data from multiple pages.\n",
    "* Implement error handling."
   ]
  },
  {
   "cell_type": "markdown",
   "metadata": {},
   "source": [
    "##### Library imports"
   ]
  },
  {
   "cell_type": "code",
   "execution_count": 1,
   "metadata": {},
   "outputs": [],
   "source": [
    "from bs4 import BeautifulSoup\n",
    "import requests\n",
    "from tqdm import tqdm\n",
    "import pandas as pd"
   ]
  },
  {
   "cell_type": "markdown",
   "metadata": {},
   "source": [
    "#### Reads the content of a local HTML file and processes it with BeautifulSoup."
   ]
  },
  {
   "cell_type": "code",
   "execution_count": 3,
   "metadata": {},
   "outputs": [],
   "source": [
    "headers = {\n",
    "    \"User-Agent\": \"My Python App\"\n",
    "}\n",
    "\n",
    "with open(r\"C:\\Users\\VELA\\Desktop\\Recuperacion\\Information-Retrieval\\webScraping\\data\\Allrecipes_RecipesA-Z.html\", \"r\", encoding=\"utf-8\") as file: \n",
    "    html_content = file.read()\n",
    "\n",
    "soup = BeautifulSoup(html_content, \"html.parser\")"
   ]
  },
  {
   "cell_type": "markdown",
   "metadata": {},
   "source": [
    "##### Retrieves the HTML content from a list of URLs, parses it with BeautifulSoup, and handles request errors and timeouts"
   ]
  },
  {
   "cell_type": "code",
   "execution_count": 4,
   "metadata": {},
   "outputs": [],
   "source": [
    "def fetch_html_content(urls, headers, timeout=10):\n",
    "    html_contents = []\n",
    "    for url in tqdm(urls, \"Progress\"):\n",
    "        try:\n",
    "            response = requests.get(url, headers=headers, timeout=timeout)\n",
    "            html_text = response.text\n",
    "            html_contents.append(BeautifulSoup(html_text, \"html.parser\"))\n",
    "        except requests.Timeout:\n",
    "            print(f\"Timeout occurred for URL: {url}\")\n",
    "        except requests.RequestException as e:\n",
    "            print(f\"Request failed for URL: {url} with exception: {e}\")\n",
    "    return html_contents\n",
    " "
   ]
  },
  {
   "cell_type": "markdown",
   "metadata": {},
   "source": [
    "##### Extracts links from a list of HTML elements and returns a list of URLs"
   ]
  },
  {
   "cell_type": "code",
   "execution_count": 5,
   "metadata": {},
   "outputs": [],
   "source": [
    "def extract_links(url_elements):\n",
    "    all_links = []\n",
    "    for link_item in url_elements.find_all(\"li\", class_=\"comp mntl-link-list__item\"):\n",
    "        anchor_tag = link_item.find(\"a\", href=True)\n",
    "        if anchor_tag:\n",
    "            all_links.append(anchor_tag['href'])\n",
    "    return all_links\n"
   ]
  },
  {
   "cell_type": "markdown",
   "metadata": {},
   "source": [
    "##### Extracts links from an HTML page based on specific attributes and returns a list of URLs"
   ]
  },
  {
   "cell_type": "code",
   "execution_count": 6,
   "metadata": {},
   "outputs": [],
   "source": [
    "def get_links_from_page(page_elements):\n",
    "    all_links = []\n",
    "    for link_item in page_elements.find_all(\"a\", class_=\"comp mntl-card-list-items mntl-document-card mntl-card card card--no-image\"):\n",
    "        if link_item.has_attr('href'):\n",
    "            all_links.append(link_item['href'])\n",
    "    return all_links"
   ]
  },
  {
   "cell_type": "markdown",
   "metadata": {},
   "source": [
    "##### Extracts titles from a list of HTML elements and returns a list of the titles"
   ]
  },
  {
   "cell_type": "code",
   "execution_count": 7,
   "metadata": {},
   "outputs": [],
   "source": [
    "def get_titles(urls):\n",
    "    titles = []\n",
    "    for url in urls:\n",
    "        titles.append(url.find(\"title\").text)\n",
    "    return titles"
   ]
  },
  {
   "cell_type": "markdown",
   "metadata": {},
   "source": [
    "##### Extracts descriptions from a list of HTML elements and returns a list of descriptions, appending np.nan if no description is found"
   ]
  },
  {
   "cell_type": "code",
   "execution_count": 8,
   "metadata": {},
   "outputs": [],
   "source": [
    "def get_recipe_descriptions(recipe_elements):\n",
    "    descriptions = []\n",
    "    for element in recipe_elements:\n",
    "        description = element.find(\"p\", class_=\"article-subheading type--dog\")\n",
    "        if description:\n",
    "            descriptions.append(description.text)\n",
    "        else:\n",
    "            descriptions.append(np.nan)\n",
    "    return descriptions"
   ]
  },
  {
   "cell_type": "markdown",
   "metadata": {},
   "source": [
    "##### Extracts ingredients from a list of HTML elements, concatenating each ingredient into a text separated by line breaks"
   ]
  },
  {
   "cell_type": "code",
   "execution_count": 9,
   "metadata": {},
   "outputs": [],
   "source": [
    "def get_recipe_ingredients(ingredient_elements):\n",
    "    ingredients = []\n",
    "    for element in ingredient_elements:\n",
    "        ingredient_text = ''\n",
    "        for item in element.find_all(\"li\", class_=\"mm-recipes-structured-ingredients__list-item\"):\n",
    "            ingredient_text += item.text.strip() + '\\n'\n",
    "        ingredients.append(ingredient_text)\n",
    "    return ingredients"
   ]
  },
  {
   "cell_type": "markdown",
   "metadata": {},
   "source": [
    "##### Extracts steps from a list of HTML elements, removing certain unwanted tags, and returns a list of steps as texts separated by line breaks"
   ]
  },
  {
   "cell_type": "code",
   "execution_count": 10,
   "metadata": {},
   "outputs": [],
   "source": [
    "def get_recipe_steps(step_elements):\n",
    "    steps = []\n",
    "    for element in step_elements:\n",
    "        step_text = ''\n",
    "        for step_item in element.find_all(\"li\", class_=\"comp mntl-sc-block mntl-sc-block-startgroup mntl-sc-block-group--LI\"):\n",
    "            for tag in step_item.find_all([\"figure\", \"div\"]):\n",
    "                tag.decompose()\n",
    "            step_text += step_item.text.strip() + '\\n'\n",
    "        steps.append(step_text)\n",
    "    return steps\n"
   ]
  },
  {
   "cell_type": "markdown",
   "metadata": {},
   "source": [
    "##### Extracts a list of links from the BeautifulSoup object using the extract_links function."
   ]
  },
  {
   "cell_type": "code",
   "execution_count": 11,
   "metadata": {},
   "outputs": [],
   "source": [
    "links_html = extract_links(soup)"
   ]
  },
  {
   "cell_type": "markdown",
   "metadata": {},
   "source": [
    "##### Retrieves the HTML content from a list of links using the fetch_html_content function"
   ]
  },
  {
   "cell_type": "code",
   "execution_count": 12,
   "metadata": {},
   "outputs": [
    {
     "name": "stderr",
     "output_type": "stream",
     "text": [
      "Progress: 100%|██████████| 378/378 [03:07<00:00,  2.02it/s]\n"
     ]
    }
   ],
   "source": [
    "recipe_links = fetch_html_content(links_html, headers)"
   ]
  },
  {
   "cell_type": "markdown",
   "metadata": {},
   "source": [
    "##### Retrieves the links from each recipe page from a list of recipe links using the get_links_from_page function"
   ]
  },
  {
   "cell_type": "code",
   "execution_count": 13,
   "metadata": {},
   "outputs": [],
   "source": [
    "links_per_recipe_page = [get_links_from_page(link) for link in recipe_links]"
   ]
  },
  {
   "cell_type": "markdown",
   "metadata": {},
   "source": [
    "##### Combines all links from recipe pages into a single list"
   ]
  },
  {
   "cell_type": "code",
   "execution_count": 14,
   "metadata": {},
   "outputs": [],
   "source": [
    "all_links = [] \n",
    "for links_in_page in links_per_recipe_page:\n",
    "    for link in links_in_page:\n",
    "        all_links.append(link)"
   ]
  },
  {
   "cell_type": "markdown",
   "metadata": {},
   "source": [
    "##### Retrieves the HTML content from a list of links using the fetch_html_content function"
   ]
  },
  {
   "cell_type": "code",
   "execution_count": 16,
   "metadata": {},
   "outputs": [
    {
     "name": "stderr",
     "output_type": "stream",
     "text": [
      "Progress:  31%|███▏      | 5705/18122 [2:14:07<1:36:42,  2.14it/s]    "
     ]
    }
   ],
   "source": [
    "recipe_links = fetch_html_content(all_links, headers)"
   ]
  },
  {
   "cell_type": "markdown",
   "metadata": {},
   "source": [
    "Extracts titles, descriptions, ingredients and steps from a list of recipe links and creates a pandas DataFrame with a column named 'Title'"
   ]
  },
  {
   "cell_type": "code",
   "execution_count": null,
   "metadata": {},
   "outputs": [],
   "source": [
    "titles = get_titles(recipe_links)\n",
    "recipe = pd.DataFrame(titles, columns=['Title'])\n",
    "\n",
    "descriptions = get_recipe_descriptions(recipe_links)\n",
    "recipe['Description'] = descriptions\n",
    "\n",
    "ingredients = get_recipe_ingredients(recipe_links)\n",
    "recipe['Ingredients'] = ingredients\n",
    "\n",
    "steps = get_recipe_steps(recipe_links)\n",
    "recipe['Steps'] = steps\n",
    "\n",
    "recipe"
   ]
  },
  {
   "cell_type": "markdown",
   "metadata": {},
   "source": [
    "#### Multiprocessing application"
   ]
  },
  {
   "cell_type": "markdown",
   "metadata": {},
   "source": [
    "![multiprocesamiento](multiprocesamiento_webScraping.jpg)"
   ]
  },
  {
   "cell_type": "code",
   "execution_count": 3,
   "metadata": {},
   "outputs": [
    {
     "data": {
      "text/html": [
       "<div>\n",
       "<style scoped>\n",
       "    .dataframe tbody tr th:only-of-type {\n",
       "        vertical-align: middle;\n",
       "    }\n",
       "\n",
       "    .dataframe tbody tr th {\n",
       "        vertical-align: top;\n",
       "    }\n",
       "\n",
       "    .dataframe thead th {\n",
       "        text-align: right;\n",
       "    }\n",
       "</style>\n",
       "<table border=\"1\" class=\"dataframe\">\n",
       "  <thead>\n",
       "    <tr style=\"text-align: right;\">\n",
       "      <th></th>\n",
       "      <th>Unnamed: 0</th>\n",
       "      <th>Title</th>\n",
       "      <th>Description</th>\n",
       "      <th>Ingredients</th>\n",
       "      <th>Steps</th>\n",
       "    </tr>\n",
       "  </thead>\n",
       "  <tbody>\n",
       "    <tr>\n",
       "      <th>0</th>\n",
       "      <td>0</td>\n",
       "      <td>Air Fryer Buffalo Wings Recipe</td>\n",
       "      <td>These crispy air fryer Buffalo wings are seaso...</td>\n",
       "      <td>2 teaspoons sea salt\\n1 teaspoon garlic powder...</td>\n",
       "      <td>Preheat an air fryer to 380 degrees F (190 deg...</td>\n",
       "    </tr>\n",
       "    <tr>\n",
       "      <th>1</th>\n",
       "      <td>1</td>\n",
       "      <td>Air Fryer Smashed Potatoes Recipe</td>\n",
       "      <td>These golden, crispy air fryer smashed potatoe...</td>\n",
       "      <td>8 ounces baby gold potatoes\\n1 tablespoon melt...</td>\n",
       "      <td>Preheat an air fryer to 400 degrees F (200 deg...</td>\n",
       "    </tr>\n",
       "    <tr>\n",
       "      <th>2</th>\n",
       "      <td>2</td>\n",
       "      <td>Air Fryer Quesadillas Recipe</td>\n",
       "      <td>These air fryer quesadillas are golden and cri...</td>\n",
       "      <td>2 flour tortillas\\n1/2 cup shredded cheese\\nno...</td>\n",
       "      <td>Heat tortillas in the microwave until pliable,...</td>\n",
       "    </tr>\n",
       "    <tr>\n",
       "      <th>3</th>\n",
       "      <td>3</td>\n",
       "      <td>Air Fryer Truffle Polenta Fries Recipe</td>\n",
       "      <td>These air fryer truffle polenta fries, flavore...</td>\n",
       "      <td>1 (18 ounce) tube prepared polenta\\n1 1/2 tabl...</td>\n",
       "      <td>Preheat an air fryer to 400 degrees F (200 deg...</td>\n",
       "    </tr>\n",
       "    <tr>\n",
       "      <th>4</th>\n",
       "      <td>4</td>\n",
       "      <td>Air Fryer Firecracker Salmon Bites Recipe</td>\n",
       "      <td>These air fryer firecracker salmon bites get a...</td>\n",
       "      <td>1/4 cup balsamic vinegar\\n1/4 cup brown sugar\\...</td>\n",
       "      <td>Combine balsamic vinegar, brown sugar, oil, so...</td>\n",
       "    </tr>\n",
       "    <tr>\n",
       "      <th>...</th>\n",
       "      <td>...</td>\n",
       "      <td>...</td>\n",
       "      <td>...</td>\n",
       "      <td>...</td>\n",
       "      <td>...</td>\n",
       "    </tr>\n",
       "    <tr>\n",
       "      <th>18117</th>\n",
       "      <td>18117</td>\n",
       "      <td>Vegan Zucchini Banana Bread Recipe</td>\n",
       "      <td>This yummy, moist, rich zucchini banana bread ...</td>\n",
       "      <td>3 cups all-purpose flour\\n1 teaspoon salt\\n1 t...</td>\n",
       "      <td>Preheat the oven to 325 degrees F (165 degrees...</td>\n",
       "    </tr>\n",
       "    <tr>\n",
       "      <th>18118</th>\n",
       "      <td>18118</td>\n",
       "      <td>Zucchini-Raspberry Bread Recipe</td>\n",
       "      <td>It's a simple zucchini nut bread with a splash...</td>\n",
       "      <td>1 ½ cups self-rising flour\\n1 teaspoon ground ...</td>\n",
       "      <td>Preheat an oven to 350 degrees F (175 degrees ...</td>\n",
       "    </tr>\n",
       "    <tr>\n",
       "      <th>18119</th>\n",
       "      <td>18119</td>\n",
       "      <td>Healthier Mom's Zucchini Bread Recipe</td>\n",
       "      <td>We packed even more zucchini into Mom's wonder...</td>\n",
       "      <td>1 ½ cups all-purpose flour\\n1 ½ cups white who...</td>\n",
       "      <td>Preheat oven to 325 degrees F (165 degrees C)....</td>\n",
       "    </tr>\n",
       "    <tr>\n",
       "      <th>18120</th>\n",
       "      <td>18120</td>\n",
       "      <td>Zucchini Bread, Pumpkin Style Recipe</td>\n",
       "      <td>Although I love zucchini bread, I wanted a new...</td>\n",
       "      <td>3 medium zucchini, cut into chunks\\n4 ¾ cups a...</td>\n",
       "      <td>Preheat an oven to 350 degrees F (175 degrees ...</td>\n",
       "    </tr>\n",
       "    <tr>\n",
       "      <th>18121</th>\n",
       "      <td>18121</td>\n",
       "      <td>Gluten-Free Zucchini Bread (or Muffins) Recipe</td>\n",
       "      <td>Got this recipe from someone else but made som...</td>\n",
       "      <td>3 cups gluten-free flour\\n1 tablespoon ground ...</td>\n",
       "      <td>Preheat oven to 325 degrees F (165 degrees C)....</td>\n",
       "    </tr>\n",
       "  </tbody>\n",
       "</table>\n",
       "<p>18122 rows × 5 columns</p>\n",
       "</div>"
      ],
      "text/plain": [
       "       Unnamed: 0                                           Title  \\\n",
       "0               0                  Air Fryer Buffalo Wings Recipe   \n",
       "1               1               Air Fryer Smashed Potatoes Recipe   \n",
       "2               2                    Air Fryer Quesadillas Recipe   \n",
       "3               3          Air Fryer Truffle Polenta Fries Recipe   \n",
       "4               4       Air Fryer Firecracker Salmon Bites Recipe   \n",
       "...           ...                                             ...   \n",
       "18117       18117              Vegan Zucchini Banana Bread Recipe   \n",
       "18118       18118                 Zucchini-Raspberry Bread Recipe   \n",
       "18119       18119           Healthier Mom's Zucchini Bread Recipe   \n",
       "18120       18120            Zucchini Bread, Pumpkin Style Recipe   \n",
       "18121       18121  Gluten-Free Zucchini Bread (or Muffins) Recipe   \n",
       "\n",
       "                                             Description  \\\n",
       "0      These crispy air fryer Buffalo wings are seaso...   \n",
       "1      These golden, crispy air fryer smashed potatoe...   \n",
       "2      These air fryer quesadillas are golden and cri...   \n",
       "3      These air fryer truffle polenta fries, flavore...   \n",
       "4      These air fryer firecracker salmon bites get a...   \n",
       "...                                                  ...   \n",
       "18117  This yummy, moist, rich zucchini banana bread ...   \n",
       "18118  It's a simple zucchini nut bread with a splash...   \n",
       "18119  We packed even more zucchini into Mom's wonder...   \n",
       "18120  Although I love zucchini bread, I wanted a new...   \n",
       "18121  Got this recipe from someone else but made som...   \n",
       "\n",
       "                                             Ingredients  \\\n",
       "0      2 teaspoons sea salt\\n1 teaspoon garlic powder...   \n",
       "1      8 ounces baby gold potatoes\\n1 tablespoon melt...   \n",
       "2      2 flour tortillas\\n1/2 cup shredded cheese\\nno...   \n",
       "3      1 (18 ounce) tube prepared polenta\\n1 1/2 tabl...   \n",
       "4      1/4 cup balsamic vinegar\\n1/4 cup brown sugar\\...   \n",
       "...                                                  ...   \n",
       "18117  3 cups all-purpose flour\\n1 teaspoon salt\\n1 t...   \n",
       "18118  1 ½ cups self-rising flour\\n1 teaspoon ground ...   \n",
       "18119  1 ½ cups all-purpose flour\\n1 ½ cups white who...   \n",
       "18120  3 medium zucchini, cut into chunks\\n4 ¾ cups a...   \n",
       "18121  3 cups gluten-free flour\\n1 tablespoon ground ...   \n",
       "\n",
       "                                                   Steps  \n",
       "0      Preheat an air fryer to 380 degrees F (190 deg...  \n",
       "1      Preheat an air fryer to 400 degrees F (200 deg...  \n",
       "2      Heat tortillas in the microwave until pliable,...  \n",
       "3      Preheat an air fryer to 400 degrees F (200 deg...  \n",
       "4      Combine balsamic vinegar, brown sugar, oil, so...  \n",
       "...                                                  ...  \n",
       "18117  Preheat the oven to 325 degrees F (165 degrees...  \n",
       "18118  Preheat an oven to 350 degrees F (175 degrees ...  \n",
       "18119  Preheat oven to 325 degrees F (165 degrees C)....  \n",
       "18120  Preheat an oven to 350 degrees F (175 degrees ...  \n",
       "18121  Preheat oven to 325 degrees F (165 degrees C)....  \n",
       "\n",
       "[18122 rows x 5 columns]"
      ]
     },
     "execution_count": 3,
     "metadata": {},
     "output_type": "execute_result"
    }
   ],
   "source": [
    "df = pd.read_csv(r\"C:\\Users\\VELA\\Desktop\\Recuperacion\\Information-Retrieval\\AllRecipes.csv\")\n",
    "df"
   ]
  }
 ],
 "metadata": {
  "kernelspec": {
   "display_name": ".venv",
   "language": "python",
   "name": "python3"
  },
  "language_info": {
   "codemirror_mode": {
    "name": "ipython",
    "version": 3
   },
   "file_extension": ".py",
   "mimetype": "text/x-python",
   "name": "python",
   "nbconvert_exporter": "python",
   "pygments_lexer": "ipython3",
   "version": "3.11.4"
  }
 },
 "nbformat": 4,
 "nbformat_minor": 2
}
