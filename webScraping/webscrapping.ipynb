{
 "cells": [
  {
   "cell_type": "code",
   "execution_count": 7,
   "metadata": {},
   "outputs": [
    {
     "name": "stderr",
     "output_type": "stream",
     "text": [
      "  % Total    % Received % Xferd  Average Speed   Time    Time     Time  Current\n",
      "                                 Dload  Upload   Total   Spent    Left  Speed\n",
      "\n",
      "  0     0    0     0    0     0      0      0 --:--:-- --:--:-- --:--:--     0\n",
      "  0     0    0     0    0     0      0      0 --:--:-- --:--:-- --:--:--     0\n",
      "curl: (35) schannel: next InitializeSecurityContext failed: CRYPT_E_NO_REVOCATION_CHECK (0x80092012) - La funci�n de revocaci�n no puede comprobar la revocaci�n para el certificado.\n"
     ]
    }
   ],
   "source": [
    "!curl -o C:\\Users\\VELA\\Desktop\\Recuperacion\\Information-Retrieval\\webScraping\\data\\granola-bars https://www.allrecipes.com/recipe/223467/granola-bars/"
   ]
  },
  {
   "cell_type": "code",
   "execution_count": 15,
   "metadata": {},
   "outputs": [],
   "source": [
    "from bs4 import BeautifulSoup\n",
    "\n",
    "urls = [\"data/granola-bars.html\"]\n",
    "\n",
    "info = []\n",
    "\n",
    "for url in urls:\n",
    "    with open(url) as file:\n",
    "        html_content = file.read()\n",
    "\n",
    "    soup = BeautifulSoup(html_content, \"html.parser\")\n",
    "    description = soup.find(\"meta\",{\"name\":\"description\"})[\"content\"]\n",
    "    tittle = soup.find(\"meta\", {\"property\":\"og:title\"})[\"content\"]\n",
    "    \n",
    "    ingredients = []\n",
    "    for item in soup.find_all(\"li\", class_=\"mm-recipes-structured-ingredients__list-item\"):\n",
    "        \n",
    "        cantidad = item.find('span', {'data-ingredient-quantity': True})\n",
    "        cantidad_texto = cantidad.text.strip() if cantidad else ''\n",
    "\n",
    "        unidad = item.find('span', {'data-ingredient-unit': True})\n",
    "        unidad_texto = unidad.text.strip() if unidad else ''\n",
    "        \n",
    "        nombre = item.find('span', {'data-ingredient-name': True})\n",
    "        nombre_texto = nombre.text.strip() if nombre else ''\n",
    "        if cantidad_texto:\n",
    "            if unidad_texto:\n",
    "                ingredients.append(f\"{cantidad_texto} {unidad_texto} {nombre_texto}\")\n",
    "            else:\n",
    "                ingredients.append(f\"{cantidad_texto} {nombre_texto}\")\n",
    "        else:\n",
    "            ingredients.append(nombre_texto)\n",
    "\n",
    "    directions = []\n",
    "    for item in soup.find_all(\"li\", class_=\"comp mntl-sc-block mntl-sc-block-startgroup mntl-sc-block-group--LI\"):\n",
    "            directions.append(item.find('p').text.strip())\n",
    "    info.append((tittle, description, ingredients, directions))\n"
   ]
  },
  {
   "cell_type": "code",
   "execution_count": 17,
   "metadata": {},
   "outputs": [
    {
     "data": {
      "text/html": [
       "<div>\n",
       "<style scoped>\n",
       "    .dataframe tbody tr th:only-of-type {\n",
       "        vertical-align: middle;\n",
       "    }\n",
       "\n",
       "    .dataframe tbody tr th {\n",
       "        vertical-align: top;\n",
       "    }\n",
       "\n",
       "    .dataframe thead th {\n",
       "        text-align: right;\n",
       "    }\n",
       "</style>\n",
       "<table border=\"1\" class=\"dataframe\">\n",
       "  <thead>\n",
       "    <tr style=\"text-align: right;\">\n",
       "      <th></th>\n",
       "      <th>Title</th>\n",
       "      <th>Description</th>\n",
       "      <th>Ingredientes</th>\n",
       "      <th>Directions</th>\n",
       "    </tr>\n",
       "  </thead>\n",
       "  <tbody>\n",
       "    <tr>\n",
       "      <th>0</th>\n",
       "      <td>Granola Bars</td>\n",
       "      <td>Homemade granola bars with toasted coconut, oa...</td>\n",
       "      <td>[cooking spray, 2 cups rolled oats, Â½ cup shr...</td>\n",
       "      <td>[Gather all ingredients. Preheat the oven to 3...</td>\n",
       "    </tr>\n",
       "  </tbody>\n",
       "</table>\n",
       "</div>"
      ],
      "text/plain": [
       "          Title                                        Description  \\\n",
       "0  Granola Bars  Homemade granola bars with toasted coconut, oa...   \n",
       "\n",
       "                                        Ingredientes  \\\n",
       "0  [cooking spray, 2 cups rolled oats, Â½ cup shr...   \n",
       "\n",
       "                                          Directions  \n",
       "0  [Gather all ingredients. Preheat the oven to 3...  "
      ]
     },
     "execution_count": 17,
     "metadata": {},
     "output_type": "execute_result"
    }
   ],
   "source": [
    "import pandas as pd\n",
    "data = {\n",
    "    'Title': tittle,\n",
    "    'Description': description,\n",
    "    'Ingredients': ingredients,\n",
    "    'Directions':directions\n",
    "}\n",
    "\n",
    "df = pd.DataFrame(data=info, columns=[\"Title\",\"Description\",\"Ingredientes\",\"Directions\"])\n",
    "df"
   ]
  }
 ],
 "metadata": {
  "kernelspec": {
   "display_name": "venv",
   "language": "python",
   "name": "python3"
  },
  "language_info": {
   "codemirror_mode": {
    "name": "ipython",
    "version": 3
   },
   "file_extension": ".py",
   "mimetype": "text/x-python",
   "name": "python",
   "nbconvert_exporter": "python",
   "pygments_lexer": "ipython3",
   "version": "3.11.4"
  }
 },
 "nbformat": 4,
 "nbformat_minor": 2
}
